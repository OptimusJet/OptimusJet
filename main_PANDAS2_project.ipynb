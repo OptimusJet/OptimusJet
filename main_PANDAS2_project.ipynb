{
  "nbformat": 4,
  "nbformat_minor": 0,
  "metadata": {
    "colab": {
      "name": " main PANDAS2 project.ipynb",
      "provenance": [],
      "collapsed_sections": [],
      "include_colab_link": true
    },
    "kernelspec": {
      "name": "python3",
      "display_name": "Python 3"
    },
    "language_info": {
      "name": "python"
    }
  },
  "cells": [
    {
      "cell_type": "markdown",
      "metadata": {
        "id": "view-in-github",
        "colab_type": "text"
      },
      "source": [
        "<a href=\"https://colab.research.google.com/github/OptimusJet/OptimusJet/blob/main/main_PANDAS2_project.ipynb\" target=\"_parent\"><img src=\"https://colab.research.google.com/assets/colab-badge.svg\" alt=\"Open In Colab\"/></a>"
      ]
    },
    {
      "cell_type": "code",
      "metadata": {
        "id": "S7cJTb5RZJZZ"
      },
      "source": [
        "import pandas as pd\n",
        "import matplotlib.pyplot as plt\n",
        "import seaborn as sns\n",
        "import matplotlib.pylab as pylab\n",
        "xl = pd.ExcelFile(\"/content/TableauSalesData.xlsx\")\n",
        "SalesData = xl.parse(\"Orders\")"
      ],
      "execution_count": null,
      "outputs": []
    },
    {
      "cell_type": "code",
      "metadata": {
        "id": "L9rhO4c1gN7E",
        "colab": {
          "base_uri": "https://localhost:8080/"
        },
        "outputId": "b422d19f-53b8-4d8d-ba25-154f864e3479"
      },
      "source": [
        "JustPaper = SalesData.loc[SalesData['Sub-Category']=='Paper']\n",
        "print(JustPaper)"
      ],
      "execution_count": null,
      "outputs": [
        {
          "output_type": "stream",
          "name": "stdout",
          "text": [
            "      Row ID        Order ID Order Date  ... Quantity Discount   Profit\n",
            "16      8032  CA-2017-158806 2017-01-07  ...        5      0.2   9.0720\n",
            "28      1026  CA-2017-126529 2017-01-11  ...        3      0.2   5.4432\n",
            "29      1027  CA-2017-126529 2017-01-11  ...        3      0.2  20.5764\n",
            "32      7269  CA-2017-133368 2017-01-14  ...        2      0.2  32.4684\n",
            "39      3743  CA-2017-137848 2017-01-15  ...        9      0.0  28.8576\n",
            "...      ...             ...        ...  ...      ...      ...      ...\n",
            "9948    7854  CA-2020-144890 2020-12-25  ...        2      0.0   4.8804\n",
            "9952    7100  CA-2020-124933 2020-12-26  ...        6      0.0  99.9408\n",
            "9958    1094  CA-2020-165085 2020-12-27  ...        5      0.0  14.1610\n",
            "9964    4810  CA-2020-151589 2020-12-27  ...        4      0.0  91.9508\n",
            "9978    6009  CA-2020-135580 2020-12-30  ...        3      0.0  31.5192\n",
            "\n",
            "[1370 rows x 21 columns]\n"
          ]
        }
      ]
    },
    {
      "cell_type": "code",
      "metadata": {
        "id": "gyf2q5hNfHyd",
        "colab": {
          "base_uri": "https://localhost:8080/"
        },
        "outputId": "cab3c249-83ce-4929-fa4f-2fc8239c631a"
      },
      "source": [
        "JustPaperYears = JustPaper.copy()\n",
        "JustPaperYears['Year'] = JustPaperYears['Order Date'].dt.year\n",
        "print(JustPaperYears.columns)"
      ],
      "execution_count": null,
      "outputs": [
        {
          "output_type": "stream",
          "name": "stdout",
          "text": [
            "Index(['Row ID', 'Order ID', 'Order Date', 'Ship Date', 'Ship Mode',\n",
            "       'Customer ID', 'Customer Name', 'Segment', 'Country', 'City', 'State',\n",
            "       'Postal Code', 'Region', 'Product ID', 'Category', 'Sub-Category',\n",
            "       'Product Name', 'Sales', 'Quantity', 'Discount', 'Profit', 'Year'],\n",
            "      dtype='object')\n"
          ]
        }
      ]
    },
    {
      "cell_type": "code",
      "metadata": {
        "id": "QSomGoA2kDGm",
        "colab": {
          "base_uri": "https://localhost:8080/"
        },
        "outputId": "23a1654f-411b-48c2-a450-421861f0b4e2"
      },
      "source": [
        "PaperSegment = JustPaper[['Segment','Profit','Sales']]\n",
        "SegTotalProfSales = PaperSegment.groupby(by='Segment').sum().sort_values(by='Profit')\n",
        "print(SegTotalProfSales)"
      ],
      "execution_count": null,
      "outputs": [
        {
          "output_type": "stream",
          "name": "stdout",
          "text": [
            "                 Profit      Sales\n",
            "Segment                           \n",
            "Home Office   8157.3789  18271.708\n",
            "Corporate    10361.5468  23883.130\n",
            "Consumer     15534.6436  36324.368\n"
          ]
        }
      ]
    },
    {
      "cell_type": "code",
      "metadata": {
        "id": "LGp6gQ_lguPp",
        "colab": {
          "base_uri": "https://localhost:8080/"
        },
        "outputId": "05837adf-0fe7-41ce-cb79-b80109a9c6b8"
      },
      "source": [
        "JustPaper = SalesData.loc[SalesData['Sub-Category']=='Paper']\n",
        "RegJustPaperDiscount = JustPaper[['Region','Discount']].groupby(by='Region').mean()\n",
        "print(RegJustPaperDiscount)"
      ],
      "execution_count": null,
      "outputs": [
        {
          "output_type": "stream",
          "name": "stdout",
          "text": [
            "         Discount\n",
            "Region           \n",
            "Central  0.128972\n",
            "East     0.064550\n",
            "South    0.102262\n",
            "West     0.031556\n"
          ]
        }
      ]
    },
    {
      "cell_type": "code",
      "metadata": {
        "colab": {
          "base_uri": "https://localhost:8080/"
        },
        "id": "BDzc3dwKmycD",
        "outputId": "8e70a851-6ac2-4ce6-8f9d-9e3dfbd71e93"
      },
      "source": [
        "JustPaper = SalesData.loc[SalesData['Sub-Category']=='Paper']\n",
        "RegJustPaperDiscount1 = JustPaper[['Segment','Discount']].groupby(by='Segment').mean()\n",
        "print(RegJustPaperDiscount)"
      ],
      "execution_count": null,
      "outputs": [
        {
          "output_type": "stream",
          "name": "stdout",
          "text": [
            "         Discount\n",
            "Region           \n",
            "Central  0.128972\n",
            "East     0.064550\n",
            "South    0.102262\n",
            "West     0.031556\n"
          ]
        }
      ]
    },
    {
      "cell_type": "code",
      "metadata": {
        "id": "AxWd2kUWlFVD",
        "colab": {
          "base_uri": "https://localhost:8080/"
        },
        "outputId": "424c7cb9-a564-41be-cd92-a66cd50e662a"
      },
      "source": [
        "PaperRegion = JustPaper[['Region','Profit','Sales']]\n",
        "SegTotalProfSales = PaperRegion.groupby(by='Region').sum().sort_values(by='Profit')\n",
        "print(SegTotalProfSales)"
      ],
      "execution_count": null,
      "outputs": [
        {
          "output_type": "stream",
          "name": "stdout",
          "text": [
            "             Profit      Sales\n",
            "Region                        \n",
            "South     5947.0614  14150.984\n",
            "Central   6971.9005  17491.902\n",
            "East      9015.3710  20172.602\n",
            "West     12119.2364  26663.718\n"
          ]
        }
      ]
    },
    {
      "cell_type": "code",
      "metadata": {
        "id": "4ncAzRPChHil",
        "colab": {
          "base_uri": "https://localhost:8080/"
        },
        "outputId": "17f59807-01d5-4c53-b6ca-37d8f82df5ce"
      },
      "source": [
        "Regions = JustPaper.Region.unique()\n",
        "PaperSegRegion = JustPaper[['Segment','Region','Sales','Discount']]\n",
        "for region in Regions:\n",
        "  PaperSegment = PaperSegRegion.loc[PaperSegRegion['Region']==region]\n",
        "  PaperSegmentProfSales = PaperSegment.groupby(by='Segment').agg({'Sales':'sum','Discount':'mean'}).sort_values('Sales')\n",
        "  print(' Total Sales and Average Discount of Paper for each customer segment in ' +  region  + ':')\n",
        "  print(PaperSegmentProfSales)\n",
        "  print('_'*40)"
      ],
      "execution_count": null,
      "outputs": [
        {
          "output_type": "stream",
          "name": "stdout",
          "text": [
            " Total Sales and Average Discount of Paper for each customer segment in Central:\n",
            "                Sales  Discount\n",
            "Segment                        \n",
            "Home Office  3975.880  0.114815\n",
            "Corporate    5952.002  0.137500\n",
            "Consumer     7564.020  0.127742\n",
            "________________________________________\n",
            " Total Sales and Average Discount of Paper for each customer segment in East:\n",
            "                Sales  Discount\n",
            "Segment                        \n",
            "Home Office  5536.218  0.085393\n",
            "Corporate    5975.116  0.062745\n",
            "Consumer     8661.268  0.055615\n",
            "________________________________________\n",
            " Total Sales and Average Discount of Paper for each customer segment in South:\n",
            "                Sales  Discount\n",
            "Segment                        \n",
            "Home Office  3202.390  0.086486\n",
            "Corporate    3345.322  0.092308\n",
            "Consumer     7603.272  0.112605\n",
            "________________________________________\n",
            " Total Sales and Average Discount of Paper for each customer segment in West:\n",
            "                 Sales  Discount\n",
            "Segment                         \n",
            "Home Office   5557.220  0.024719\n",
            "Corporate     8610.690  0.035659\n",
            "Consumer     12495.808  0.031897\n",
            "________________________________________\n"
          ]
        }
      ]
    },
    {
      "cell_type": "code",
      "metadata": {
        "colab": {
          "base_uri": "https://localhost:8080/"
        },
        "id": "XLCEQPU6Zhi7",
        "outputId": "0bbeb8bd-0905-4cf1-fa06-c9234d5e7fd8"
      },
      "source": [
        "JustPaper = SalesData.loc[SalesData['Sub-Category']=='Paper']\n",
        "JustPaperYear = JustPaper.copy()\n",
        "JustPaperYear['Year']=JustPaperYear['Order Date'].dt.year\n",
        "Years = JustPaperYear.Year.unique()\n",
        "RegJustPaperYear = JustPaperYear[['Region','Year','Discount']]\n",
        "for year in Years:\n",
        " OneYear = RegJustPaperYear.loc[RegJustPaperYear['Year']==year]\n",
        " NoYear = OneYear[['Region','Discount']]\n",
        " YearlyRegDiscount = NoYear.groupby(by='Region').mean()\n",
        " print('\\nRegional Paper discounts for the year:'+ str(year))\n",
        " print(YearlyRegDiscount)\n",
        " print('*'*40)"
      ],
      "execution_count": null,
      "outputs": [
        {
          "output_type": "stream",
          "name": "stdout",
          "text": [
            "\n",
            "Regional Paper discounts for the year:2017\n",
            "         Discount\n",
            "Region           \n",
            "Central  0.128261\n",
            "East     0.068132\n",
            "South    0.094915\n",
            "West     0.022581\n",
            "****************************************\n",
            "\n",
            "Regional Paper discounts for the year:2018\n",
            "         Discount\n",
            "Region           \n",
            "Central  0.130275\n",
            "East     0.070073\n",
            "South    0.126471\n",
            "West     0.027586\n",
            "****************************************\n",
            "\n",
            "Regional Paper discounts for the year:2019\n",
            "         Discount\n",
            "Region           \n",
            "Central  0.140625\n",
            "East     0.068750\n",
            "South    0.089655\n",
            "West     0.043678\n",
            "****************************************\n",
            "\n",
            "Regional Paper discounts for the year:2020\n",
            "         Discount\n",
            "Region           \n",
            "Central  0.114286\n",
            "East     0.048837\n",
            "South    0.088889\n",
            "West     0.038298\n",
            "****************************************\n"
          ]
        }
      ]
    },
    {
      "cell_type": "code",
      "metadata": {
        "colab": {
          "base_uri": "https://localhost:8080/",
          "height": 673
        },
        "id": "4bP6zpf4bjGF",
        "outputId": "3f459dbd-2164-404c-8bdc-9c65cd68c65c"
      },
      "source": [
        "JustPaper = SalesData.loc[SalesData['Sub-Category']=='Paper']\n",
        "PaperSalesYear = JustPaper.copy()\n",
        "PaperSalesYear['Year']= PaperSalesYear['Order Date'].dt.year\n",
        "PaperSalesProf = PaperSalesYear[['Year','Profit','Sales']].groupby(by='Year').sum()\n",
        "PaperSalesProf = PaperSalesProf.reset_index()\n",
        "print(PaperSalesProf)\n",
        "print('*'*40)\n",
        "PaperSalesProfGraph = pd.melt(PaperSalesProf, id_vars='Year', var_name='Paper', value_name='Annual Dollars')\n",
        "CatPlot1 = sns.catplot(x='Year',y='Annual Dollars',hue='Paper', data = PaperSalesProfGraph, kind = 'bar')\n",
        "CatPlot1.fig.suptitle('Annual Paper Profit and Sales')\n",
        "plt.shot()"
      ],
      "execution_count": null,
      "outputs": [
        {
          "output_type": "stream",
          "name": "stdout",
          "text": [
            "   Year      Profit      Sales\n",
            "0  2017   9071.5345  20661.894\n",
            "1  2018  12040.8434  27694.718\n",
            "2  2019   6371.0214  14834.956\n",
            "3  2020   6570.1700  15287.638\n",
            "****************************************\n"
          ]
        },
        {
          "output_type": "error",
          "ename": "AttributeError",
          "evalue": "ignored",
          "traceback": [
            "\u001b[0;31m---------------------------------------------------------------------------\u001b[0m",
            "\u001b[0;31mAttributeError\u001b[0m                            Traceback (most recent call last)",
            "\u001b[0;32m<ipython-input-18-1d41609d09dc>\u001b[0m in \u001b[0;36m<module>\u001b[0;34m()\u001b[0m\n\u001b[1;32m      9\u001b[0m \u001b[0mCatPlot1\u001b[0m \u001b[0;34m=\u001b[0m \u001b[0msns\u001b[0m\u001b[0;34m.\u001b[0m\u001b[0mcatplot\u001b[0m\u001b[0;34m(\u001b[0m\u001b[0mx\u001b[0m\u001b[0;34m=\u001b[0m\u001b[0;34m'Year'\u001b[0m\u001b[0;34m,\u001b[0m\u001b[0my\u001b[0m\u001b[0;34m=\u001b[0m\u001b[0;34m'Annual Dollars'\u001b[0m\u001b[0;34m,\u001b[0m\u001b[0mhue\u001b[0m\u001b[0;34m=\u001b[0m\u001b[0;34m'Paper'\u001b[0m\u001b[0;34m,\u001b[0m \u001b[0mdata\u001b[0m \u001b[0;34m=\u001b[0m \u001b[0mPaperSalesProfGraph\u001b[0m\u001b[0;34m,\u001b[0m \u001b[0mkind\u001b[0m \u001b[0;34m=\u001b[0m \u001b[0;34m'bar'\u001b[0m\u001b[0;34m)\u001b[0m\u001b[0;34m\u001b[0m\u001b[0;34m\u001b[0m\u001b[0m\n\u001b[1;32m     10\u001b[0m \u001b[0mCatPlot1\u001b[0m\u001b[0;34m.\u001b[0m\u001b[0mfig\u001b[0m\u001b[0;34m.\u001b[0m\u001b[0msuptitle\u001b[0m\u001b[0;34m(\u001b[0m\u001b[0;34m'Annual Paper Profit and Sales'\u001b[0m\u001b[0;34m)\u001b[0m\u001b[0;34m\u001b[0m\u001b[0;34m\u001b[0m\u001b[0m\n\u001b[0;32m---> 11\u001b[0;31m \u001b[0mplt\u001b[0m\u001b[0;34m.\u001b[0m\u001b[0mshot\u001b[0m\u001b[0;34m(\u001b[0m\u001b[0;34m)\u001b[0m\u001b[0;34m\u001b[0m\u001b[0;34m\u001b[0m\u001b[0m\n\u001b[0m",
            "\u001b[0;31mAttributeError\u001b[0m: module 'matplotlib.pyplot' has no attribute 'shot'"
          ]
        },
        {
          "output_type": "display_data",
          "data": {
            "image/png": "[encoded data removed]",
            "text/plain": [
              "<Figure size 422.625x360 with 1 Axes>"
            ]
          },
          "metadata": {
            "needs_background": "light"
          }
        }
      ]
    },
    {
      "cell_type": "code",
      "metadata": {
        "colab": {
          "base_uri": "https://localhost:8080/",
          "height": 80
        },
        "id": "VvDrBUT-g55S",
        "outputId": "3e16f06f-752f-4a9e-c8df-825ab219f9c6"
      },
      "source": [
        "JustPaper = SalesData.loc[SalesData['Sub-Category']=='Paper']\n",
        "PaperProf = JustPaper[['Product Name','Profit']].groupby('Product Name').sum()\n",
        "NegPaper = PaperProf[PaperProf['Profit']<0.0]\n",
        "display(NegPaper)"
      ],
      "execution_count": null,
      "outputs": [
        {
          "output_type": "display_data",
          "data": {
            "text/html": [
              "<div>\n",
              "<style scoped>\n",
              "    .dataframe tbody tr th:only-of-type {\n",
              "        vertical-align: middle;\n",
              "    }\n",
              "\n",
              "    .dataframe tbody tr th {\n",
              "        vertical-align: top;\n",
              "    }\n",
              "\n",
              "    .dataframe thead th {\n",
              "        text-align: right;\n",
              "    }\n",
              "</style>\n",
              "<table border=\"1\" class=\"dataframe\">\n",
              "  <thead>\n",
              "    <tr style=\"text-align: right;\">\n",
              "      <th></th>\n",
              "      <th>Profit</th>\n",
              "    </tr>\n",
              "    <tr>\n",
              "      <th>Product Name</th>\n",
              "      <th></th>\n",
              "    </tr>\n",
              "  </thead>\n",
              "  <tbody>\n",
              "  </tbody>\n",
              "</table>\n",
              "</div>"
            ],
            "text/plain": [
              "Empty DataFrame\n",
              "Columns: [Profit]\n",
              "Index: []"
            ]
          },
          "metadata": {}
        }
      ]
    },
    {
      "cell_type": "code",
      "metadata": {
        "colab": {
          "base_uri": "https://localhost:8080/"
        },
        "id": "DeXaD88ih_tM",
        "outputId": "0dbdb63e-f41a-46b3-b068-e32c0e1cff2e"
      },
      "source": [
        "PaperDiscount = JustPaper[\"Sales\"].mean()\n",
        "print(PaperDiscount)"
      ],
      "execution_count": null,
      "outputs": [
        {
          "output_type": "stream",
          "name": "stdout",
          "text": [
            "57.28409197080295\n"
          ]
        }
      ]
    },
    {
      "cell_type": "code",
      "metadata": {
        "colab": {
          "base_uri": "https://localhost:8080/"
        },
        "id": "bJcnDQ9viGGN",
        "outputId": "56cd46af-f31b-4201-a6ef-bc5dd1ff27d0"
      },
      "source": [
        "PaperDiscount = JustPaper[\"Discount\"].mean()\n",
        "print(PaperDiscount)"
      ],
      "execution_count": null,
      "outputs": [
        {
          "output_type": "stream",
          "name": "stdout",
          "text": [
            "0.07489051094890578\n"
          ]
        }
      ]
    },
    {
      "cell_type": "code",
      "metadata": {
        "colab": {
          "base_uri": "https://localhost:8080/"
        },
        "id": "VfAEyHbciMgt",
        "outputId": "278120b3-417c-4e30-b9f8-5d183f933409"
      },
      "source": [
        "PaperProductDiscount = JustPaper[[\"Product Name\", \"Discount\"]].groupby(by=\"Product Name\").mean().sort_values(by=\"Discount\", ascending = False)\n",
        "print(PaperProductDiscount.head(10))"
      ],
      "execution_count": null,
      "outputs": [
        {
          "output_type": "stream",
          "name": "stdout",
          "text": [
            "                                                    Discount\n",
            "Product Name                                                \n",
            "Xerox 1921                                               0.2\n",
            "Things To Do Today Spiral Book                           0.2\n",
            "Xerox 1985                                               0.2\n",
            "Xerox 1989                                               0.2\n",
            "Snap-A-Way Black Print Carbonless Speed Message...       0.2\n",
            "Xerox 1938                                               0.2\n",
            "Xerox 1932                                               0.2\n",
            "Black Print Carbonless 8 1/2\" x 8 1/4\" Rapid Me...       0.2\n",
            "Xerox 1955                                               0.2\n",
            "Xerox 1901                                               0.2\n"
          ]
        }
      ]
    },
    {
      "cell_type": "code",
      "metadata": {
        "colab": {
          "base_uri": "https://localhost:8080/"
        },
        "id": "ngxZIxwcqrYc",
        "outputId": "2b39138d-74ee-4cb3-d011-92876a379058"
      },
      "source": [
        "SubCatProfits = SalesData[['Sub-Category','Profit','Sales']]\n",
        "print(SubCatProfits)"
      ],
      "execution_count": null,
      "outputs": [
        {
          "output_type": "stream",
          "name": "stdout",
          "text": [
            "     Sub-Category    Profit    Sales\n",
            "0       Bookcases   38.2668  173.940\n",
            "1          Phones   67.2742  231.980\n",
            "2         Storage   28.6150  114.460\n",
            "3     Accessories   -5.2640   30.080\n",
            "4     Accessories   -6.2100  165.600\n",
            "...           ...       ...      ...\n",
            "9989      Binders  167.8080  364.800\n",
            "9990      Storage  -26.7204  152.688\n",
            "9991    Fasteners    0.5668    3.488\n",
            "9992     Supplies   -1.3248    5.888\n",
            "9993      Binders   52.3800  116.400\n",
            "\n",
            "[9994 rows x 3 columns]\n"
          ]
        }
      ]
    },
    {
      "cell_type": "code",
      "metadata": {
        "id": "whV1qB9sXh57"
      },
      "source": [
        ""
      ],
      "execution_count": null,
      "outputs": []
    }
  ]
}